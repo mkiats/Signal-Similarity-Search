{
 "cells": [
  {
   "cell_type": "code",
   "execution_count": 1,
   "id": "5c6dfb2d-862a-4dfa-bbd1-0f51210b8f7a",
   "metadata": {
    "tags": []
   },
   "outputs": [],
   "source": [
    "import os\n",
    "import pandas as pd\n",
    "import glob\n",
    "import zipfile\n",
    "import shutil\n",
    "\n",
    "files = glob.glob('data.zip')\n",
    "\n",
    "for file in files:\n",
    "    print('Unzipping:',file)\n",
    "\n",
    "    with zipfile.ZipFile(file, 'r') as zip_ref:\n",
    "        zip_ref.extractall('.')"
   ]
  },
  {
   "cell_type": "code",
   "execution_count": null,
   "id": "7c4a4131-a5f6-46fc-992c-7b6c291ac578",
   "metadata": {
    "tags": []
   },
   "outputs": [],
   "source": [
    "# Separate big data into 3 folders (A,B,C) and into labelled data and unlabelled data\n",
    "WAV_PATH = \"./data\"\n",
    "PICKLE_PATH = \"./data/Pickle Folder\"\n",
    "\n",
    "WAV_PATH_LS = os.listdir(WAV_PATH) \n",
    "PICKLE_PATH_LS = os.listdir(PICKLE_PATH)\n",
    "print(WAV_PATH_LS)\n",
    "print(PICKLE_PATH_LS)\n",
    "\n",
    "def split_by_labels(wav_filename, pickle_filename, labelled_dir, unlabelled_dir):\n",
    "    if not os.path.exists(labelled_dir):\n",
    "        os.makedirs(labelled_dir)\n",
    "    if not os.path.exists(unlabelled_dir):\n",
    "        os.makedirs(unlabelled_dir)\n",
    "        \n",
    "    wav_dir = os.path.join(WAV_PATH, wav_filename, 'Unknown')\n",
    "    to_be_sorted_filenames = os.listdir(wav_dir)\n",
    "\n",
    "    pickle_dir = os.path.join(PICKLE_PATH, pickle_filename)\n",
    "    obj = pd.read_pickle(pickle_dir)\n",
    "    labelled_filenames = obj['AllPTTnames'] \n",
    "\n",
    "    for i in range(len(to_be_sorted_filenames)):\n",
    "        file = os.path.join(wav_dir, to_be_sorted_filenames[i])\n",
    "        if len(labelled_filenames)>0 and to_be_sorted_filenames[i][:-4] in labelled_filenames:\n",
    "            labelled_filenames.remove(to_be_sorted_filenames[i][:-4])\n",
    "            shutil.copy(file, labelled_dir)\n",
    "        else:\n",
    "            shutil.copy(file, unlabelled_dir)\n",
    "\n",
    "    print(wav_filename, \"is sorted\")\n",
    "\n",
    "\n",
    "split_by_labels('FB_13Jan2021_7am_specgenCL0005_ShortPatience', 'FB_13Jan2021_7am_specgenCL0005_ShortPatience.pickle', \n",
    "                \"data/labelled/FB_13Jan2021_7am_specgenCL0005_ShortPatience\", \"data/unlabelled\")\n",
    "\n",
    "split_by_labels('FB_13Jan2021_8am_specgenCL0005_ShortPatience', 'FB_13Jan2021_8am_specgenCL0005_ShortPatience.pickle', \n",
    "                \"data/labelled/FB_13Jan2021_8am_specgenCL0005_ShortPatience\", \"data/unlabelled\")\n",
    "\n",
    "split_by_labels('FB_18Dec2019_specgenCL0005_ShortPatience', 'FB_18Dec2019_specgenCL0005_ShortPatience.pickle', \n",
    "                \"data/labelled/FB_18Dec2019_specgenCL0005_ShortPatience\", \"data/unlabelled2\")"
   ]
  }
 ],
 "metadata": {
  "kernelspec": {
   "display_name": "Python 3 (ipykernel)",
   "language": "python",
   "name": "python3"
  },
  "language_info": {
   "codemirror_mode": {
    "name": "ipython",
    "version": 3
   },
   "file_extension": ".py",
   "mimetype": "text/x-python",
   "name": "python",
   "nbconvert_exporter": "python",
   "pygments_lexer": "ipython3",
   "version": "3.11.3"
  }
 },
 "nbformat": 4,
 "nbformat_minor": 5
}
